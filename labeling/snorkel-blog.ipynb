{
 "cells": [
  {
   "cell_type": "markdown",
   "id": "ec86cfbd",
   "metadata": {},
   "source": [
    "# Accelerating Text Classification with Snorkel"
   ]
  },
  {
   "cell_type": "markdown",
   "id": "1ea2b266",
   "metadata": {},
   "source": [
    "It is now well understood that state of the art models and hardware have been commoditized but training data is still a challenge for many supervised learning algorithms. There is a massive drive towards generating high quality training data for the AI applications to succeed.\n",
    "\n",
    "\n",
    "\n",
    "Open-source Snorkel framework is tackling this through data programming. I.e. to use diverse organizational knowledge resources—like internal models, ontologies, legacy rules, knowledge graphs and more—in order to generate training data for machine learning models at web scale.[1].\n",
    "\n",
    "In our objective to classify issues in an issues management system into classes such as - Bugs, New Feature or Maintenance we planned on using a transformer model and tune it further to help us accelarate on the goal.  We have a dataset of issues and we need labels for those issues to train a pre-trained BERT variant for our specific domain.\n",
    "\n",
    "We decided to evaluate Snorkel on our issues classification/labelling tasks before scaling it further for our needs.\n",
    "\n",
    "In this notebook I am going to give an overview of the features of Snorkel library that lets us build and manage training datasets programatically. \n",
    "\n",
    "We are also going to look at other important aspects such as focusing on problem slices of your dataset. \n",
    "It allows us to evaluate them and apply fixes and integrate it to train again, enabling a true iterative model development through remediation of your dataset labels."
   ]
  },
  {
   "cell_type": "code",
   "execution_count": 3,
   "id": "6769ffb3",
   "metadata": {},
   "outputs": [],
   "source": [
    "import logging\n",
    "import os\n",
    "import numpy as np\n",
    "import random\n",
    "import torch"
   ]
  },
  {
   "cell_type": "markdown",
   "id": "e85e3258",
   "metadata": {},
   "source": [
    "The intuition behind this pattern is to use the problem domain expertise to enable data labelling programatically through heuristics. Allowing for rapid deployment, testing and iteration of ML models, with a focus on solving the problem at hand."
   ]
  },
  {
   "cell_type": "markdown",
   "id": "c6dc240b",
   "metadata": {},
   "source": [
    "Some history behind the idea of weak supervision and data labelling of Snorkel can be found in [1]\n",
    "\n",
    "### Briefly the snorkel library has :\n",
    "\n",
    "* Labeling:\n",
    "    Generate labels for the data, and reconcile those labels generating a single one at the end\n",
    "\n",
    "* Analysis: \n",
    "   Evaluating label metrics.\n",
    "\n",
    "* Augmentation:\n",
    "   Generate new data samples\n",
    "\n",
    "* Slicing:\n",
    "   Monitor subsets of data\n",
    "\n",
    "* Classification:\n",
    "   Tools to train multitask models"
   ]
  },
  {
   "cell_type": "markdown",
   "id": "89821be2",
   "metadata": {},
   "source": [
    "In this notebook we are going to look at use of Labeling, Analysis and Slicing modules."
   ]
  },
  {
   "cell_type": "code",
   "execution_count": 4,
   "id": "e150d9a6",
   "metadata": {},
   "outputs": [],
   "source": [
    "import pandas as pd\n",
    "import snorkel\n",
    "import numpy as np\n",
    "from simpletransformers.classification import ClassificationModel"
   ]
  },
  {
   "cell_type": "code",
   "execution_count": 240,
   "id": "95d76cc5",
   "metadata": {},
   "outputs": [],
   "source": [
    "df_frames = pd.read_csv('training.csv')"
   ]
  },
  {
   "cell_type": "code",
   "execution_count": null,
   "id": "7557eed4",
   "metadata": {},
   "outputs": [],
   "source": [
    "df_frames = df_frames.astype({\"issue_id\": int, \"text\": str})\n",
    "df_frames.dtypes"
   ]
  },
  {
   "cell_type": "code",
   "execution_count": 241,
   "id": "cf48178c",
   "metadata": {},
   "outputs": [
    {
     "data": {
      "text/html": [
       "<div>\n",
       "<style scoped>\n",
       "    .dataframe tbody tr th:only-of-type {\n",
       "        vertical-align: middle;\n",
       "    }\n",
       "\n",
       "    .dataframe tbody tr th {\n",
       "        vertical-align: top;\n",
       "    }\n",
       "\n",
       "    .dataframe thead th {\n",
       "        text-align: right;\n",
       "    }\n",
       "</style>\n",
       "<table border=\"1\" class=\"dataframe\">\n",
       "  <thead>\n",
       "    <tr style=\"text-align: right;\">\n",
       "      <th></th>\n",
       "      <th>Unnamed: 0</th>\n",
       "      <th>issue_id</th>\n",
       "      <th>text</th>\n",
       "      <th>zero_shot_label</th>\n",
       "      <th>zeroshotlabel</th>\n",
       "      <th>snorkel</th>\n",
       "      <th>xlnet_label</th>\n",
       "    </tr>\n",
       "  </thead>\n",
       "  <tbody>\n",
       "    <tr>\n",
       "      <th>0</th>\n",
       "      <td>0</td>\n",
       "      <td>487922</td>\n",
       "      <td>Bug Internal costs allocation is not calculati...</td>\n",
       "      <td>Defect</td>\n",
       "      <td>1</td>\n",
       "      <td>1</td>\n",
       "      <td>1</td>\n",
       "    </tr>\n",
       "    <tr>\n",
       "      <th>1</th>\n",
       "      <td>1</td>\n",
       "      <td>487693</td>\n",
       "      <td>Story Prepare videos | Ad Russia</td>\n",
       "      <td>New Feature</td>\n",
       "      <td>2</td>\n",
       "      <td>-1</td>\n",
       "      <td>2</td>\n",
       "    </tr>\n",
       "    <tr>\n",
       "      <th>2</th>\n",
       "      <td>2</td>\n",
       "      <td>487981</td>\n",
       "      <td>Bug Inconsistent approach to calculating order...</td>\n",
       "      <td>Defect</td>\n",
       "      <td>1</td>\n",
       "      <td>1</td>\n",
       "      <td>1</td>\n",
       "    </tr>\n",
       "    <tr>\n",
       "      <th>3</th>\n",
       "      <td>3</td>\n",
       "      <td>487992</td>\n",
       "      <td>Bug Digital Campaign Name, Start and End date ...</td>\n",
       "      <td>Defect</td>\n",
       "      <td>1</td>\n",
       "      <td>3</td>\n",
       "      <td>1</td>\n",
       "    </tr>\n",
       "    <tr>\n",
       "      <th>4</th>\n",
       "      <td>4</td>\n",
       "      <td>488110</td>\n",
       "      <td>Story BM: Create SF_ORD_CRE_REQ messages</td>\n",
       "      <td>Continue Operation</td>\n",
       "      <td>0</td>\n",
       "      <td>2</td>\n",
       "      <td>2</td>\n",
       "    </tr>\n",
       "  </tbody>\n",
       "</table>\n",
       "</div>"
      ],
      "text/plain": [
       "   Unnamed: 0  issue_id                                               text  \\\n",
       "0           0    487922  Bug Internal costs allocation is not calculati...   \n",
       "1           1    487693                   Story Prepare videos | Ad Russia   \n",
       "2           2    487981  Bug Inconsistent approach to calculating order...   \n",
       "3           3    487992  Bug Digital Campaign Name, Start and End date ...   \n",
       "4           4    488110           Story BM: Create SF_ORD_CRE_REQ messages   \n",
       "\n",
       "      zero_shot_label  zeroshotlabel  snorkel  xlnet_label  \n",
       "0              Defect              1        1            1  \n",
       "1         New Feature              2       -1            2  \n",
       "2              Defect              1        1            1  \n",
       "3              Defect              1        3            1  \n",
       "4  Continue Operation              0        2            2  "
      ]
     },
     "execution_count": 241,
     "metadata": {},
     "output_type": "execute_result"
    }
   ],
   "source": [
    "df_train.head()"
   ]
  },
  {
   "cell_type": "code",
   "execution_count": 233,
   "id": "11e15970",
   "metadata": {},
   "outputs": [
    {
     "data": {
      "text/html": [
       "<div>\n",
       "<style scoped>\n",
       "    .dataframe tbody tr th:only-of-type {\n",
       "        vertical-align: middle;\n",
       "    }\n",
       "\n",
       "    .dataframe tbody tr th {\n",
       "        vertical-align: top;\n",
       "    }\n",
       "\n",
       "    .dataframe thead th {\n",
       "        text-align: right;\n",
       "    }\n",
       "</style>\n",
       "<table border=\"1\" class=\"dataframe\">\n",
       "  <thead>\n",
       "    <tr style=\"text-align: right;\">\n",
       "      <th></th>\n",
       "      <th>issue_id</th>\n",
       "      <th>text</th>\n",
       "      <th>zero_shot_label</th>\n",
       "      <th>zeroshotlabel</th>\n",
       "      <th>snorkel</th>\n",
       "      <th>xlnet_label</th>\n",
       "    </tr>\n",
       "  </thead>\n",
       "  <tbody>\n",
       "    <tr>\n",
       "      <th>1995</th>\n",
       "      <td>205597</td>\n",
       "      <td>Bug [QA1-Slack Enterprise]Creating multiple cc...</td>\n",
       "      <td>Defect</td>\n",
       "      <td>1</td>\n",
       "      <td>1</td>\n",
       "      <td>1</td>\n",
       "    </tr>\n",
       "    <tr>\n",
       "      <th>1996</th>\n",
       "      <td>205596</td>\n",
       "      <td>Bug [20.7][GSuiteOtherApps][Google Contacts] :...</td>\n",
       "      <td>Defect</td>\n",
       "      <td>1</td>\n",
       "      <td>1</td>\n",
       "      <td>1</td>\n",
       "    </tr>\n",
       "    <tr>\n",
       "      <th>1997</th>\n",
       "      <td>205166</td>\n",
       "      <td>Bug [XXXXX] Content Rule Templates Names didn'...</td>\n",
       "      <td>Defect</td>\n",
       "      <td>1</td>\n",
       "      <td>1</td>\n",
       "      <td>1</td>\n",
       "    </tr>\n",
       "    <tr>\n",
       "      <th>1998</th>\n",
       "      <td>205165</td>\n",
       "      <td>Bug [XXXXX] - Slack Policy Rule changed from D...</td>\n",
       "      <td>Defect</td>\n",
       "      <td>1</td>\n",
       "      <td>1</td>\n",
       "      <td>1</td>\n",
       "    </tr>\n",
       "    <tr>\n",
       "      <th>1999</th>\n",
       "      <td>205164</td>\n",
       "      <td>Bug [XXXXX] - Content Rule Name Changed/Modifi...</td>\n",
       "      <td>Defect</td>\n",
       "      <td>1</td>\n",
       "      <td>0</td>\n",
       "      <td>1</td>\n",
       "    </tr>\n",
       "  </tbody>\n",
       "</table>\n",
       "</div>"
      ],
      "text/plain": [
       "      issue_id                                               text  \\\n",
       "1995    205597  Bug [QA1-Slack Enterprise]Creating multiple cc...   \n",
       "1996    205596  Bug [20.7][GSuiteOtherApps][Google Contacts] :...   \n",
       "1997    205166  Bug [XXXXX] Content Rule Templates Names didn'...   \n",
       "1998    205165  Bug [XXXXX] - Slack Policy Rule changed from D...   \n",
       "1999    205164  Bug [XXXXX] - Content Rule Name Changed/Modifi...   \n",
       "\n",
       "     zero_shot_label  zeroshotlabel  snorkel  xlnet_label  \n",
       "1995          Defect              1        1            1  \n",
       "1996          Defect              1        1            1  \n",
       "1997          Defect              1        1            1  \n",
       "1998          Defect              1        1            1  \n",
       "1999          Defect              1        0            1  "
      ]
     },
     "execution_count": 233,
     "metadata": {},
     "output_type": "execute_result"
    }
   ],
   "source": [
    "df_frames.tail()"
   ]
  },
  {
   "cell_type": "markdown",
   "id": "67cba0c2",
   "metadata": {},
   "source": [
    "A Baseline model - build using zero-shot-classification"
   ]
  },
  {
   "cell_type": "code",
   "execution_count": 17,
   "id": "4af31822",
   "metadata": {},
   "outputs": [],
   "source": [
    "from transformers import pipeline\n",
    "\n",
    "classifier = pipeline(\"zero-shot-classification\", device=0)\n",
    "candidate_labels=[\"Defect\", \"Software Research\", \"Software Upgrade\", \"Testing\", \"Software Development\", \"Software Maintenance\", \"Software Deployment\", \"Software Enhancement\", \"Software Integration\", \"New Feature\", \"Innovation\", \"R&D\", \"Continue Operation\", \"Other\", \"Technical Debt\"]"
   ]
  },
  {
   "cell_type": "code",
   "execution_count": 22,
   "id": "8227b024",
   "metadata": {},
   "outputs": [],
   "source": [
    "filter_keys = ['labels']\n",
    "def predict_0_shot_label(summary):\n",
    "    result = classifier(summary, candidate_labels)\n",
    "    temp = list(map(result.get, filter_keys))\n",
    "    zero_shot_label = temp[0][0]\n",
    "    return zero_shot_label"
   ]
  },
  {
   "cell_type": "code",
   "execution_count": 23,
   "id": "eb3ede57",
   "metadata": {},
   "outputs": [],
   "source": [
    "def translate_label(label_text):\n",
    "    if label_text in ['New Feature', 'Innovation', 'R&D', 'Software Research', 'Software Development', 'Software Enhancement']:\n",
    "        return 2\n",
    "    elif label_text in ['Testing', 'Continue Operation', 'Technical Debt', 'Software Maintenance', 'Software Upgrade', 'Software Deployment', 'Software Integration']:\n",
    "        return 0\n",
    "    elif label_text in ['Defect']:\n",
    "        return 1   \n",
    "    else:\n",
    "        return 3"
   ]
  },
  {
   "cell_type": "code",
   "execution_count": 24,
   "id": "de6b20f6",
   "metadata": {},
   "outputs": [],
   "source": [
    "df_frames['zero_shot_label'] = df_frames['text'].apply(predict_0_shot_label)"
   ]
  },
  {
   "cell_type": "code",
   "execution_count": 25,
   "id": "d96064c7",
   "metadata": {},
   "outputs": [],
   "source": [
    "df_frames['zeroshotlabel'] = df_frames['zero_shot_label'].apply(translate_label)"
   ]
  },
  {
   "cell_type": "code",
   "execution_count": 26,
   "id": "73645580",
   "metadata": {},
   "outputs": [
    {
     "data": {
      "text/html": [
       "<div>\n",
       "<style scoped>\n",
       "    .dataframe tbody tr th:only-of-type {\n",
       "        vertical-align: middle;\n",
       "    }\n",
       "\n",
       "    .dataframe tbody tr th {\n",
       "        vertical-align: top;\n",
       "    }\n",
       "\n",
       "    .dataframe thead th {\n",
       "        text-align: right;\n",
       "    }\n",
       "</style>\n",
       "<table border=\"1\" class=\"dataframe\">\n",
       "  <thead>\n",
       "    <tr style=\"text-align: right;\">\n",
       "      <th></th>\n",
       "      <th>issue_id</th>\n",
       "      <th>text</th>\n",
       "      <th>zero_shot_label</th>\n",
       "      <th>zeroshotlabel</th>\n",
       "    </tr>\n",
       "  </thead>\n",
       "  <tbody>\n",
       "    <tr>\n",
       "      <th>0</th>\n",
       "      <td>487922</td>\n",
       "      <td>Bug Internal costs allocation is not calculati...</td>\n",
       "      <td>Defect</td>\n",
       "      <td>1</td>\n",
       "    </tr>\n",
       "    <tr>\n",
       "      <th>1</th>\n",
       "      <td>487693</td>\n",
       "      <td>Story Prepare videos | Ad Russia</td>\n",
       "      <td>New Feature</td>\n",
       "      <td>2</td>\n",
       "    </tr>\n",
       "    <tr>\n",
       "      <th>2</th>\n",
       "      <td>487981</td>\n",
       "      <td>Bug Inconsistent approach to calculating order...</td>\n",
       "      <td>Defect</td>\n",
       "      <td>1</td>\n",
       "    </tr>\n",
       "    <tr>\n",
       "      <th>3</th>\n",
       "      <td>487992</td>\n",
       "      <td>Bug Digital Campaign Name, Start and End date ...</td>\n",
       "      <td>Defect</td>\n",
       "      <td>1</td>\n",
       "    </tr>\n",
       "    <tr>\n",
       "      <th>4</th>\n",
       "      <td>488110</td>\n",
       "      <td>Story BM: Create SF_ORD_CRE_REQ messages</td>\n",
       "      <td>Continue Operation</td>\n",
       "      <td>0</td>\n",
       "    </tr>\n",
       "  </tbody>\n",
       "</table>\n",
       "</div>"
      ],
      "text/plain": [
       "   issue_id                                               text  \\\n",
       "0    487922  Bug Internal costs allocation is not calculati...   \n",
       "1    487693                   Story Prepare videos | Ad Russia   \n",
       "2    487981  Bug Inconsistent approach to calculating order...   \n",
       "3    487992  Bug Digital Campaign Name, Start and End date ...   \n",
       "4    488110           Story BM: Create SF_ORD_CRE_REQ messages   \n",
       "\n",
       "      zero_shot_label  zeroshotlabel  \n",
       "0              Defect              1  \n",
       "1         New Feature              2  \n",
       "2              Defect              1  \n",
       "3              Defect              1  \n",
       "4  Continue Operation              0  "
      ]
     },
     "execution_count": 26,
     "metadata": {},
     "output_type": "execute_result"
    }
   ],
   "source": [
    "df_frames.head()"
   ]
  },
  {
   "cell_type": "markdown",
   "id": "dfe6ae61",
   "metadata": {},
   "source": [
    "[1] Snorkel framework allows users to generically specify multiple sources of programmatic weak supervision—such as rules and pattern matchers over text—that can vary in accuracy, coverage, and that may be arbitrarily correlated. \n",
    "\n",
    "The Snorkel pipeline follows three main stages: first, users write labeling functions, which are simply black-box functions that take in unlabeled data points and output a label or abstain; next, a generative model is used to estimate the accuracies of the different labeling functions, and then to re-weight and combine their labels to produce a set of probabilistic training labels, effectively solving a novel data cleaning and integration problem; and finally, these labels are use to train an arbitrary end discriminative model, which is used as the final classifier in production."
   ]
  },
  {
   "cell_type": "markdown",
   "id": "40e85604",
   "metadata": {},
   "source": [
    "### Weakly Supervised learning using Snorkel's Labeling Function"
   ]
  },
  {
   "cell_type": "code",
   "execution_count": 27,
   "id": "4ea3c612",
   "metadata": {},
   "outputs": [],
   "source": [
    "# Define the label mappings for convenience\n",
    "ABSTAIN = -1\n",
    "MAINTENANCE = 0\n",
    "BUG = 1\n",
    "RD = 2\n",
    "OTHER = 3"
   ]
  },
  {
   "cell_type": "code",
   "execution_count": 28,
   "id": "1d5f219c",
   "metadata": {},
   "outputs": [],
   "source": [
    "from snorkel.labeling import labeling_function"
   ]
  },
  {
   "cell_type": "code",
   "execution_count": 29,
   "id": "fbeb1b87",
   "metadata": {},
   "outputs": [],
   "source": [
    "@labeling_function()\n",
    "def maintenance(x):\n",
    "    return MAINTENANCE if \"switch\" in x['text'].lower() or \"improvement\" in x.text.lower() or 'upgrade' in x['text'].lower() or 'update' in x['text'].lower() or 'alert' in x['text'].lower() or 'remove' in x['text'].lower() or 'clean' in x['text'].lower() or 'deploy' in x['text'].lower() or 'offboard' in x['text'].lower() or 'access' in x['text'].lower() or 'support' in x['text'].lower() else ABSTAIN\n",
    "\n",
    "@labeling_function()\n",
    "def bug(x):\n",
    "    return BUG if \"fail\" in x['text'].lower() or \"bug\" in x.text.lower() or \"error\" in x.text.lower() or \"resolve\" in x.text.lower() or \"issue\" in x.text.lower() else ABSTAIN\n",
    "\n",
    "@labeling_function()\n",
    "def new_feature(x):\n",
    "    # Return a label, otherwise ABSTAIN\n",
    "    return RD if \"feature\" in x['text'].lower() or \"experiment\" in x['text'].lower() or 'new' in x['text'].lower() or 'spike' in x['text'].lower() or 'add' in x['text'].lower() or 'build' in x['text'].lower() or 'create' in x['text'].lower() or 'enable' in x['text'].lower() or 'design' in x['text'].lower() or 'implement' in x['text'].lower() or 'report' in x['text'].lower() else ABSTAIN\n",
    "\n",
    "@labeling_function()\n",
    "def tech_debt(x):\n",
    "    # Return a label of SPAM if \"http\" in comment text, otherwise ABSTAIN\n",
    "    return MAINTENANCE if \"verif\" in x['text'].lower() or \"qa\" in x['text'].lower() or \"test\" in x['text'].lower() or \"release\" in x['text'].lower() or \"migrate\" in x['text'].lower() or \"Technical Debt\" in x['text'] or 'Tech Debt' in x['text'] or 'request' in x['text'].lower() or 'clean' in x['text'].lower() or 'validat' in x['text'].lower() or 'script' in x['text'].lower() or 'monitor' in x['text'].lower() or 'tuni' in x['text'].lower() else ABSTAIN\n",
    "\n",
    "@labeling_function()\n",
    "def enhancement(x):\n",
    "    # Return a label , otherwise ABSTAIN\n",
    "    return RD if \"enhancement\" in x['text'].lower() else ABSTAIN\n",
    "\n",
    "@labeling_function()\n",
    "def other(x):\n",
    "    return OTHER if \"help\" in x['text'].lower() or \"campaign\" in x['text'].lower() or \"setup\" in x['text'].lower() or \"query\" in x['text'].lower() or \"investigate\" in x['text'].lower() or \"terminate\" in x['text'].lower() or \"document\" in x['text'].lower() or \"review\" in x['text'].lower() or \"retro\" in x['text'].lower() or \"consultancy\" in x['text'].lower() or \"external\" in x['text'].lower() or \"communica\" in x['text'].lower() else ABSTAIN\n",
    "\n",
    "@labeling_function()\n",
    "def predict_0_shot_label(x):\n",
    "    result = classifier(x.text, candidate_labels)\n",
    "    temp = list(map(result.get, filter_keys))\n",
    "    zero_shot_label = temp[0][0]\n",
    "    return zeroshotlabel(zero_shot_label)\n",
    "\n",
    "def zeroshotlabel(label_text):\n",
    "    if label_text in ['New Feature', 'Innovation', 'R&D', 'Software Research', 'Software Development', 'Software Enhancement']:\n",
    "        return RD\n",
    "    elif label_text in ['Testing', 'Continue Operation', 'Technical Debt', 'Software Maintenance', 'Software Upgrade', 'Software Deployment', 'Software Integration']:\n",
    "        return MAINTENANCE\n",
    "    elif label_text in ['Defect']:\n",
    "        return BUG  \n",
    "    else:\n",
    "        return OTHER"
   ]
  },
  {
   "cell_type": "code",
   "execution_count": 30,
   "id": "e21f8a6c",
   "metadata": {},
   "outputs": [],
   "source": [
    "from snorkel.labeling.model import LabelModel\n",
    "from snorkel.labeling import PandasLFApplier"
   ]
  },
  {
   "cell_type": "code",
   "execution_count": 31,
   "id": "b2b18a68",
   "metadata": {},
   "outputs": [],
   "source": [
    "# Define the set of labeling functions (LFs)\n",
    "lfs = [maintenance, bug, new_feature, tech_debt, enhancement, other, predict_0_shot_label]"
   ]
  },
  {
   "cell_type": "code",
   "execution_count": 32,
   "id": "690e80ab",
   "metadata": {},
   "outputs": [
    {
     "name": "stderr",
     "output_type": "stream",
     "text": [
      "100%|██████████| 6856/6856 [11:49<00:00,  9.66it/s]\n"
     ]
    }
   ],
   "source": [
    "# Apply the LFs to the unlabeled training data\n",
    "applier = PandasLFApplier(lfs)\n",
    "L_train = applier.apply(df_frames)"
   ]
  },
  {
   "cell_type": "code",
   "execution_count": 33,
   "id": "a9abe3e7",
   "metadata": {},
   "outputs": [],
   "source": [
    "label_model = LabelModel(cardinality=4, verbose=True)\n",
    "label_model.fit(L_train, n_epochs=500, log_freq=50, seed=123)\n",
    "df_frames[\"snorkel\"] = label_model.predict(L=L_train, tie_break_policy=\"abstain\")"
   ]
  },
  {
   "cell_type": "code",
   "execution_count": 34,
   "id": "e18e2342",
   "metadata": {},
   "outputs": [],
   "source": [
    "non_labelled = df_frames[df_frames.snorkel == -1]"
   ]
  },
  {
   "cell_type": "code",
   "execution_count": null,
   "id": "5bd1fcb2",
   "metadata": {},
   "outputs": [],
   "source": [
    "non_labelled.count()"
   ]
  },
  {
   "cell_type": "markdown",
   "id": "38340b7c",
   "metadata": {},
   "source": [
    "Evaluating snorkel labels"
   ]
  },
  {
   "cell_type": "code",
   "execution_count": 36,
   "id": "c634fec6",
   "metadata": {},
   "outputs": [
    {
     "name": "stderr",
     "output_type": "stream",
     "text": [
      "100%|██████████| 6856/6856 [11:48<00:00,  9.67it/s]\n",
      "WARNING:root:Metrics calculated over data points with non-abstain labels only\n"
     ]
    },
    {
     "name": "stdout",
     "output_type": "stream",
     "text": [
      "Label Model Accuracy:     95.6%\n",
      "All Metrics:  {'accuracy': 0.9556592765460911, 'coverage': 1.0, 'f1_macro': 0.9109312577717841, 'f1_micro': 0.9556592765460911}\n"
     ]
    }
   ],
   "source": [
    "L_train_full = applier.apply(df_frames)\n",
    "label_model = LabelModel(cardinality=4, verbose=True)\n",
    "label_model.fit(L_train_full, n_epochs=500, log_freq=50, seed=123)\n",
    "metrics = label_model.score(L=L_train_full, Y=df_frames.zeroshotlabel, \n",
    "                            tie_break_policy=\"abstain\",\n",
    "                            metrics=[\"accuracy\"\n",
    "                            , \"coverage\", \"f1_macro\", \"f1_micro\"])\n",
    "\n",
    "label_model_acc = metrics[\"accuracy\"]\n",
    "print(f\"{'Label Model Accuracy:':<25} {label_model_acc * 100:.1f}%\")\n",
    "print(\"All Metrics: \", metrics)"
   ]
  },
  {
   "cell_type": "code",
   "execution_count": 37,
   "id": "9d00aeda",
   "metadata": {},
   "outputs": [
    {
     "data": {
      "text/html": [
       "<div>\n",
       "<style scoped>\n",
       "    .dataframe tbody tr th:only-of-type {\n",
       "        vertical-align: middle;\n",
       "    }\n",
       "\n",
       "    .dataframe tbody tr th {\n",
       "        vertical-align: top;\n",
       "    }\n",
       "\n",
       "    .dataframe thead th {\n",
       "        text-align: right;\n",
       "    }\n",
       "</style>\n",
       "<table border=\"1\" class=\"dataframe\">\n",
       "  <thead>\n",
       "    <tr style=\"text-align: right;\">\n",
       "      <th></th>\n",
       "      <th>j</th>\n",
       "      <th>Polarity</th>\n",
       "      <th>Coverage</th>\n",
       "      <th>Overlaps</th>\n",
       "      <th>Conflicts</th>\n",
       "    </tr>\n",
       "  </thead>\n",
       "  <tbody>\n",
       "    <tr>\n",
       "      <th>maintenance</th>\n",
       "      <td>0</td>\n",
       "      <td>[0]</td>\n",
       "      <td>0.177071</td>\n",
       "      <td>0.177071</td>\n",
       "      <td>0.157526</td>\n",
       "    </tr>\n",
       "    <tr>\n",
       "      <th>bug</th>\n",
       "      <td>1</td>\n",
       "      <td>[1]</td>\n",
       "      <td>0.456680</td>\n",
       "      <td>0.456680</td>\n",
       "      <td>0.215286</td>\n",
       "    </tr>\n",
       "    <tr>\n",
       "      <th>new_feature</th>\n",
       "      <td>2</td>\n",
       "      <td>[2]</td>\n",
       "      <td>0.203617</td>\n",
       "      <td>0.203617</td>\n",
       "      <td>0.132585</td>\n",
       "    </tr>\n",
       "    <tr>\n",
       "      <th>tech_debt</th>\n",
       "      <td>3</td>\n",
       "      <td>[0]</td>\n",
       "      <td>0.161027</td>\n",
       "      <td>0.161027</td>\n",
       "      <td>0.126167</td>\n",
       "    </tr>\n",
       "    <tr>\n",
       "      <th>enhancement</th>\n",
       "      <td>4</td>\n",
       "      <td>[2]</td>\n",
       "      <td>0.004813</td>\n",
       "      <td>0.004813</td>\n",
       "      <td>0.000729</td>\n",
       "    </tr>\n",
       "    <tr>\n",
       "      <th>other</th>\n",
       "      <td>5</td>\n",
       "      <td>[3]</td>\n",
       "      <td>0.078180</td>\n",
       "      <td>0.078180</td>\n",
       "      <td>0.075117</td>\n",
       "    </tr>\n",
       "    <tr>\n",
       "      <th>predict_0_shot_label</th>\n",
       "      <td>6</td>\n",
       "      <td>[0, 1, 2, 3]</td>\n",
       "      <td>1.000000</td>\n",
       "      <td>0.778005</td>\n",
       "      <td>0.409422</td>\n",
       "    </tr>\n",
       "  </tbody>\n",
       "</table>\n",
       "</div>"
      ],
      "text/plain": [
       "                      j      Polarity  Coverage  Overlaps  Conflicts\n",
       "maintenance           0           [0]  0.177071  0.177071   0.157526\n",
       "bug                   1           [1]  0.456680  0.456680   0.215286\n",
       "new_feature           2           [2]  0.203617  0.203617   0.132585\n",
       "tech_debt             3           [0]  0.161027  0.161027   0.126167\n",
       "enhancement           4           [2]  0.004813  0.004813   0.000729\n",
       "other                 5           [3]  0.078180  0.078180   0.075117\n",
       "predict_0_shot_label  6  [0, 1, 2, 3]  1.000000  0.778005   0.409422"
      ]
     },
     "execution_count": 37,
     "metadata": {},
     "output_type": "execute_result"
    }
   ],
   "source": [
    "from snorkel.labeling import LFAnalysis\n",
    "LFAnalysis(L=L_train, lfs=lfs).lf_summary()"
   ]
  },
  {
   "cell_type": "markdown",
   "id": "63246afb",
   "metadata": {},
   "source": [
    "Distribution of labels"
   ]
  },
  {
   "cell_type": "code",
   "execution_count": 213,
   "id": "9f0e7d60",
   "metadata": {},
   "outputs": [
    {
     "data": {
      "text/plain": [
       "<AxesSubplot:>"
      ]
     },
     "execution_count": 213,
     "metadata": {},
     "output_type": "execute_result"
    },
    {
     "data": {
      "image/png": "[encoded data removed]",
      "text/plain": [
       "<Figure size 432x288 with 1 Axes>"
      ]
     },
     "metadata": {
      "needs_background": "light"
     },
     "output_type": "display_data"
    }
   ],
   "source": [
    "df_frames[\"snorkel\"].hist()"
   ]
  },
  {
   "cell_type": "code",
   "execution_count": 39,
   "id": "dba714f1",
   "metadata": {},
   "outputs": [
    {
     "data": {
      "text/html": [
       "<div>\n",
       "<style scoped>\n",
       "    .dataframe tbody tr th:only-of-type {\n",
       "        vertical-align: middle;\n",
       "    }\n",
       "\n",
       "    .dataframe tbody tr th {\n",
       "        vertical-align: top;\n",
       "    }\n",
       "\n",
       "    .dataframe thead th {\n",
       "        text-align: right;\n",
       "    }\n",
       "</style>\n",
       "<table border=\"1\" class=\"dataframe\">\n",
       "  <thead>\n",
       "    <tr style=\"text-align: right;\">\n",
       "      <th></th>\n",
       "      <th>issue_id</th>\n",
       "      <th>text</th>\n",
       "      <th>zero_shot_label</th>\n",
       "      <th>zeroshotlabel</th>\n",
       "      <th>snorkel</th>\n",
       "    </tr>\n",
       "  </thead>\n",
       "  <tbody>\n",
       "    <tr>\n",
       "      <th>0</th>\n",
       "      <td>487922</td>\n",
       "      <td>Bug Internal costs allocation is not calculati...</td>\n",
       "      <td>Defect</td>\n",
       "      <td>1</td>\n",
       "      <td>1</td>\n",
       "    </tr>\n",
       "    <tr>\n",
       "      <th>1</th>\n",
       "      <td>487693</td>\n",
       "      <td>Story Prepare videos | Ad Russia</td>\n",
       "      <td>New Feature</td>\n",
       "      <td>2</td>\n",
       "      <td>2</td>\n",
       "    </tr>\n",
       "    <tr>\n",
       "      <th>2</th>\n",
       "      <td>487981</td>\n",
       "      <td>Bug Inconsistent approach to calculating order...</td>\n",
       "      <td>Defect</td>\n",
       "      <td>1</td>\n",
       "      <td>1</td>\n",
       "    </tr>\n",
       "    <tr>\n",
       "      <th>3</th>\n",
       "      <td>487992</td>\n",
       "      <td>Bug Digital Campaign Name, Start and End date ...</td>\n",
       "      <td>Defect</td>\n",
       "      <td>1</td>\n",
       "      <td>1</td>\n",
       "    </tr>\n",
       "    <tr>\n",
       "      <th>4</th>\n",
       "      <td>488110</td>\n",
       "      <td>Story BM: Create SF_ORD_CRE_REQ messages</td>\n",
       "      <td>Continue Operation</td>\n",
       "      <td>0</td>\n",
       "      <td>0</td>\n",
       "    </tr>\n",
       "  </tbody>\n",
       "</table>\n",
       "</div>"
      ],
      "text/plain": [
       "   issue_id                                               text  \\\n",
       "0    487922  Bug Internal costs allocation is not calculati...   \n",
       "1    487693                   Story Prepare videos | Ad Russia   \n",
       "2    487981  Bug Inconsistent approach to calculating order...   \n",
       "3    487992  Bug Digital Campaign Name, Start and End date ...   \n",
       "4    488110           Story BM: Create SF_ORD_CRE_REQ messages   \n",
       "\n",
       "      zero_shot_label  zeroshotlabel  snorkel  \n",
       "0              Defect              1        1  \n",
       "1         New Feature              2        2  \n",
       "2              Defect              1        1  \n",
       "3              Defect              1        1  \n",
       "4  Continue Operation              0        0  "
      ]
     },
     "execution_count": 39,
     "metadata": {},
     "output_type": "execute_result"
    }
   ],
   "source": [
    "df_frames.head()"
   ]
  },
  {
   "cell_type": "markdown",
   "id": "26277333",
   "metadata": {},
   "source": [
    "Snorkel has several options for hyperparameter tuning to improve the quality of labeling even further."
   ]
  },
  {
   "cell_type": "code",
   "execution_count": 40,
   "id": "5465cc50",
   "metadata": {},
   "outputs": [
    {
     "name": "stderr",
     "output_type": "stream",
     "text": [
      "WARNING:root:Metrics calculated over data points with non-abstain labels only\n",
      "WARNING:root:Metrics calculated over data points with non-abstain labels only\n",
      "WARNING:root:Metrics calculated over data points with non-abstain labels only\n",
      "WARNING:root:Metrics calculated over data points with non-abstain labels only\n",
      "WARNING:root:Metrics calculated over data points with non-abstain labels only\n",
      "WARNING:root:Metrics calculated over data points with non-abstain labels only\n",
      "WARNING:root:Metrics calculated over data points with non-abstain labels only\n",
      "WARNING:root:Metrics calculated over data points with non-abstain labels only\n",
      "WARNING:root:Metrics calculated over data points with non-abstain labels only\n",
      "WARNING:root:Metrics calculated over data points with non-abstain labels only\n"
     ]
    },
    {
     "name": "stdout",
     "output_type": "stream",
     "text": [
      "best =  0.9763710618436406  params  (0.1, 0, 100, 'sgd', 0.6)\n"
     ]
    }
   ],
   "source": [
    "# Grid Search\n",
    "from itertools import product\n",
    "lrs = [1e-1, 1e-2, 1e-3]\n",
    "l2s = [0, 1e-1, 1e-2]\n",
    "n_epochs = [100, 200, 500]\n",
    "optimizer = [\"sgd\", \"adam\"]\n",
    "thresh = [0.6, 0.7] #[0.5, 0.6]\n",
    "lma_best = 0\n",
    "params_best = []\n",
    "for params in product(lrs, l2s, n_epochs, optimizer, thresh):\n",
    "    # do the initial pass to access the accuracies\n",
    "    label_model.fit(L_train_full, n_epochs=params[2], log_freq=50, \n",
    "                    seed=123, optimizer=params[3], lr=params[0], \n",
    "                    l2=params[1])\n",
    "    \n",
    "    # accuracies\n",
    "    weights = label_model.get_weights()\n",
    "    # print(weights)\n",
    "    \n",
    "    # LFs above our threshold \n",
    "    vals = weights > params[4]\n",
    "    \n",
    "    # the LM requires at least 3 LFs to train\n",
    "    if sum(vals) >= 3:\n",
    "        L_filtered = L_train_full[:, vals]\n",
    "        label_model.fit(L_filtered, n_epochs=params[2], \n",
    "                        log_freq=50, seed=123, \n",
    "                        optimizer=params[3], lr=params[0], \n",
    "                        l2=params[1])\n",
    "        label_model_acc = label_model.score(L=L_filtered, \n",
    "                          Y=df_frames.zeroshotlabel, \n",
    "                          tie_break_policy=\"abstain\")[\"accuracy\"]\n",
    "        # print(label_model_acc)\n",
    "        if label_model_acc > lma_best:\n",
    "            lma_best = label_model_acc\n",
    "            params_best = params\n",
    "        \n",
    "print(\"best = \", lma_best, \" params \", params_best)"
   ]
  },
  {
   "cell_type": "markdown",
   "id": "6751c7ca",
   "metadata": {},
   "source": [
    "Previously trained Xlnet Model"
   ]
  },
  {
   "cell_type": "code",
   "execution_count": 42,
   "id": "7b1ae3c6",
   "metadata": {},
   "outputs": [],
   "source": [
    "train_args ={\"reprocess_input_data\": True, \"overwrite_output_dir\": False}\n",
    "model_folder = '../production/pipeline'\n",
    "\n",
    "model = ClassificationModel(\"xlnet\", model_folder, use_cuda=False, num_labels=4, args=train_args)\n"
   ]
  },
  {
   "cell_type": "code",
   "execution_count": 77,
   "id": "6f2b4113",
   "metadata": {},
   "outputs": [],
   "source": [
    "def predict_label(summary):\n",
    "    predictions, raw_outputs = model.predict([summary])\n",
    "    return predictions[0]"
   ]
  },
  {
   "cell_type": "code",
   "execution_count": null,
   "id": "e2b04a37",
   "metadata": {},
   "outputs": [],
   "source": [
    "df_frames['xlnet_label'] = df_frames['text'].apply(predict_label)"
   ]
  },
  {
   "cell_type": "code",
   "execution_count": 80,
   "id": "5091d151",
   "metadata": {},
   "outputs": [
    {
     "data": {
      "text/html": [
       "<div>\n",
       "<style scoped>\n",
       "    .dataframe tbody tr th:only-of-type {\n",
       "        vertical-align: middle;\n",
       "    }\n",
       "\n",
       "    .dataframe tbody tr th {\n",
       "        vertical-align: top;\n",
       "    }\n",
       "\n",
       "    .dataframe thead th {\n",
       "        text-align: right;\n",
       "    }\n",
       "</style>\n",
       "<table border=\"1\" class=\"dataframe\">\n",
       "  <thead>\n",
       "    <tr style=\"text-align: right;\">\n",
       "      <th></th>\n",
       "      <th>issue_id</th>\n",
       "      <th>text</th>\n",
       "      <th>zero_shot_label</th>\n",
       "      <th>zeroshotlabel</th>\n",
       "      <th>snorkel</th>\n",
       "      <th>snorkel_new</th>\n",
       "      <th>xlnet_label</th>\n",
       "    </tr>\n",
       "  </thead>\n",
       "  <tbody>\n",
       "    <tr>\n",
       "      <th>0</th>\n",
       "      <td>487922</td>\n",
       "      <td>Bug Internal costs allocation is not calculati...</td>\n",
       "      <td>Defect</td>\n",
       "      <td>1</td>\n",
       "      <td>1</td>\n",
       "      <td>1</td>\n",
       "      <td>1</td>\n",
       "    </tr>\n",
       "    <tr>\n",
       "      <th>1</th>\n",
       "      <td>487693</td>\n",
       "      <td>Story Prepare videos | Ad Russia</td>\n",
       "      <td>New Feature</td>\n",
       "      <td>2</td>\n",
       "      <td>2</td>\n",
       "      <td>2</td>\n",
       "      <td>2</td>\n",
       "    </tr>\n",
       "    <tr>\n",
       "      <th>2</th>\n",
       "      <td>487981</td>\n",
       "      <td>Bug Inconsistent approach to calculating order...</td>\n",
       "      <td>Defect</td>\n",
       "      <td>1</td>\n",
       "      <td>1</td>\n",
       "      <td>1</td>\n",
       "      <td>1</td>\n",
       "    </tr>\n",
       "    <tr>\n",
       "      <th>3</th>\n",
       "      <td>487992</td>\n",
       "      <td>Bug Digital Campaign Name, Start and End date ...</td>\n",
       "      <td>Defect</td>\n",
       "      <td>1</td>\n",
       "      <td>1</td>\n",
       "      <td>1</td>\n",
       "      <td>1</td>\n",
       "    </tr>\n",
       "    <tr>\n",
       "      <th>4</th>\n",
       "      <td>488110</td>\n",
       "      <td>Story BM: Create SF_ORD_CRE_REQ messages</td>\n",
       "      <td>Continue Operation</td>\n",
       "      <td>0</td>\n",
       "      <td>0</td>\n",
       "      <td>0</td>\n",
       "      <td>2</td>\n",
       "    </tr>\n",
       "  </tbody>\n",
       "</table>\n",
       "</div>"
      ],
      "text/plain": [
       "   issue_id                                               text  \\\n",
       "0    487922  Bug Internal costs allocation is not calculati...   \n",
       "1    487693                   Story Prepare videos | Ad Russia   \n",
       "2    487981  Bug Inconsistent approach to calculating order...   \n",
       "3    487992  Bug Digital Campaign Name, Start and End date ...   \n",
       "4    488110           Story BM: Create SF_ORD_CRE_REQ messages   \n",
       "\n",
       "      zero_shot_label  zeroshotlabel  snorkel  snorkel_new  xlnet_label  \n",
       "0              Defect              1        1            1            1  \n",
       "1         New Feature              2        2            2            2  \n",
       "2              Defect              1        1            1            1  \n",
       "3              Defect              1        1            1            1  \n",
       "4  Continue Operation              0        0            0            2  "
      ]
     },
     "execution_count": 80,
     "metadata": {},
     "output_type": "execute_result"
    }
   ],
   "source": [
    "df_frames.head()"
   ]
  },
  {
   "cell_type": "markdown",
   "id": "7dae7aa9",
   "metadata": {},
   "source": [
    "Evaluating the model "
   ]
  },
  {
   "cell_type": "code",
   "execution_count": 47,
   "id": "f3533a9d",
   "metadata": {},
   "outputs": [],
   "source": [
    "from sklearn.metrics import precision_recall_fscore_support\n",
    "import json"
   ]
  },
  {
   "cell_type": "code",
   "execution_count": 211,
   "id": "d12898fe",
   "metadata": {},
   "outputs": [],
   "source": [
    "y_true = df_frames['xlnet_label'].tolist()\n",
    "y_pred = df_frames['snorkel'].tolist()"
   ]
  },
  {
   "cell_type": "code",
   "execution_count": 212,
   "id": "390755e9",
   "metadata": {},
   "outputs": [
    {
     "name": "stdout",
     "output_type": "stream",
     "text": [
      "{\n",
      "    \"precision\": 0.7096614492993274,\n",
      "    \"recall\": 0.6998249708284714,\n",
      "    \"f1\": 0.6956091187204573,\n",
      "    \"num_samples\": 6856.0\n",
      "}\n"
     ]
    }
   ],
   "source": [
    "# Metrics\n",
    "metrics = {\"overall\": {}, \"class\": {}}\n",
    "\n",
    "# Evaluate\n",
    "# Overall metrics\n",
    "overall_metrics = precision_recall_fscore_support(y_true, y_pred, average=\"weighted\")\n",
    "metrics[\"overall\"][\"precision\"] = overall_metrics[0]\n",
    "metrics[\"overall\"][\"recall\"] = overall_metrics[1]\n",
    "metrics[\"overall\"][\"f1\"] = overall_metrics[2]\n",
    "metrics[\"overall\"][\"num_samples\"] = np.float64(len(y_true))\n",
    "print (json.dumps(metrics[\"overall\"], indent=4))\n"
   ]
  },
  {
   "cell_type": "code",
   "execution_count": 214,
   "id": "25278b75",
   "metadata": {},
   "outputs": [],
   "source": [
    "label_classes = df_frames.xlnet_label.unique()"
   ]
  },
  {
   "cell_type": "code",
   "execution_count": 216,
   "id": "eea16022",
   "metadata": {},
   "outputs": [],
   "source": [
    "label_classes = sorted(label_classes)"
   ]
  },
  {
   "cell_type": "code",
   "execution_count": 217,
   "id": "cf4fd8ff",
   "metadata": {},
   "outputs": [],
   "source": [
    "# Per-class metrics\n",
    "class_metrics = precision_recall_fscore_support(y_true, y_pred, average=None)\n",
    "for i, _class in enumerate(label_classes):\n",
    "    metrics[\"class\"][_class] = {\n",
    "        \"precision\": class_metrics[0][i],\n",
    "        \"recall\": class_metrics[1][i],\n",
    "        \"f1\": class_metrics[2][i],\n",
    "        \"num_samples\": np.float64(class_metrics[3][i]),\n",
    "    }"
   ]
  },
  {
   "cell_type": "code",
   "execution_count": 218,
   "id": "2651510b",
   "metadata": {},
   "outputs": [],
   "source": [
    "class_metrics = precision_recall_fscore_support(y_true, y_pred, average=None)"
   ]
  },
  {
   "cell_type": "code",
   "execution_count": 219,
   "id": "f7942cbd",
   "metadata": {},
   "outputs": [
    {
     "data": {
      "text/plain": [
       "(array([0.62971517, 0.8340311 , 0.61445148, 0.08201893]),\n",
       " array([0.4061569 , 0.91412652, 0.68489124, 0.28888889]),\n",
       " array([0.49381225, 0.87224394, 0.64776202, 0.12776413]),\n",
       " array([2014, 3051, 1701,   90]))"
      ]
     },
     "execution_count": 219,
     "metadata": {},
     "output_type": "execute_result"
    }
   ],
   "source": [
    "class_metrics"
   ]
  },
  {
   "cell_type": "code",
   "execution_count": 252,
   "id": "ce724bd0",
   "metadata": {},
   "outputs": [
    {
     "name": "stdout",
     "output_type": "stream",
     "text": [
      "{\n",
      "  \"precision\": 0.08201892744479496,\n",
      "  \"recall\": 0.28888888888888886,\n",
      "  \"f1\": 0.12776412776412777,\n",
      "  \"num_samples\": 90.0\n",
      "}\n"
     ]
    }
   ],
   "source": [
    "# Metrics for a specific class\n",
    "tag = 3\n",
    "print (json.dumps(metrics[\"class\"][tag], indent=2))"
   ]
  },
  {
   "cell_type": "code",
   "execution_count": 221,
   "id": "b5a559aa",
   "metadata": {},
   "outputs": [],
   "source": [
    "lebelled_df = df_frames[df_frames.snorkel != -1]"
   ]
  },
  {
   "cell_type": "code",
   "execution_count": 222,
   "id": "a80e6d4e",
   "metadata": {},
   "outputs": [],
   "source": [
    "# Num samples by class\n",
    "num_samples = lebelled_df.groupby(['snorkel']).size()"
   ]
  },
  {
   "cell_type": "code",
   "execution_count": 223,
   "id": "7b97432e",
   "metadata": {},
   "outputs": [
    {
     "data": {
      "text/plain": [
       "snorkel\n",
       "0    1299\n",
       "1    3344\n",
       "2    1896\n",
       "3     317\n",
       "dtype: int64"
      ]
     },
     "execution_count": 223,
     "metadata": {},
     "output_type": "execute_result"
    }
   ],
   "source": [
    "num_samples"
   ]
  },
  {
   "cell_type": "code",
   "execution_count": 224,
   "id": "1bfda71c",
   "metadata": {},
   "outputs": [],
   "source": [
    "f1s = [metrics[\"class\"][_class][\"f1\"]*100. for _class in label_classes]"
   ]
  },
  {
   "cell_type": "code",
   "execution_count": 225,
   "id": "e06d1cc4",
   "metadata": {},
   "outputs": [
    {
     "data": {
      "text/plain": [
       "[49.38122547539994, 87.2243940578577, 64.7762023908813, 12.776412776412776]"
      ]
     },
     "execution_count": 225,
     "metadata": {},
     "output_type": "execute_result"
    }
   ],
   "source": [
    "f1s"
   ]
  },
  {
   "cell_type": "code",
   "execution_count": 228,
   "id": "cf94a05e",
   "metadata": {},
   "outputs": [],
   "source": [
    "# samples vs. performance\n",
    "f1s = [metrics[\"class\"][_class][\"f1\"]*100. for _class in label_classes]\n",
    "# sorted_lists = zip(*[num_samples, f1s])\n",
    "sorted_lists = sorted(zip(*[num_samples, f1s]))\n",
    "num_samples, f1s = list(zip(*sorted_lists))"
   ]
  },
  {
   "cell_type": "code",
   "execution_count": 231,
   "id": "8480a5a1",
   "metadata": {},
   "outputs": [],
   "source": [
    "labelClasses = ['Other', 'Maintenance', 'R&D', 'Bug']"
   ]
  },
  {
   "cell_type": "code",
   "execution_count": 235,
   "id": "f04952ca",
   "metadata": {},
   "outputs": [
    {
     "data": {
      "image/png": "[encoded data removed]",
      "text/plain": [
       "<Figure size 1800x360 with 1 Axes>"
      ]
     },
     "metadata": {
      "needs_background": "light"
     },
     "output_type": "display_data"
    }
   ],
   "source": [
    "# Plot\n",
    "import matplotlib.pyplot as plt\n",
    "n = 4\n",
    "fig, ax = plt.subplots()\n",
    "ax.set_xlabel(\"# of training samples\")\n",
    "ax.set_ylabel(\"performance (f1)\")\n",
    "fig.set_size_inches(25, 5)\n",
    "ax.plot(num_samples, f1s, \"bo-\")\n",
    "for x, y, label in zip(num_samples[-n:], f1s[-n:], labelClasses[-n:]):\n",
    "    ax.annotate(label, xy=(x,y), xytext=(-5, 5), ha=\"right\", textcoords=\"offset points\")"
   ]
  },
  {
   "cell_type": "markdown",
   "id": "61989622",
   "metadata": {},
   "source": [
    "Evaluate performance on key slices of data \n",
    "\n",
    "Overall metrics are not good enough. Ability to understand the poor performing slices and human intervention into the process is essential for improving production ML solutions. In this section we look at how Snorkel's slicing module enables some of these aspects."
   ]
  },
  {
   "cell_type": "code",
   "execution_count": 236,
   "id": "9f046c05",
   "metadata": {},
   "outputs": [],
   "source": [
    "from snorkel.slicing import PandasSFApplier\n",
    "from snorkel.slicing import slice_dataframe\n",
    "from snorkel.slicing import slicing_function"
   ]
  },
  {
   "cell_type": "code",
   "execution_count": 253,
   "id": "d5825d73",
   "metadata": {},
   "outputs": [],
   "source": [
    "@slicing_function()\n",
    "def other_slice(x):\n",
    "    return OTHER if \"bug\" not in x['text'].lower() and (\"help\" in x['text'].lower() or \"campaign\" in x['text'].lower() or \"setup\" in x['text'].lower() or \"query\" in x['text'].lower() or \"investigate\" in x['text'].lower() or \"terminate\" in x['text'].lower() or \"document\" in x['text'].lower() or \"review\" in x['text'].lower() or \"retro\" in x['text'].lower() or \"consultancy\" in x['text'].lower() or \"external\" in x['text'].lower() or \"communica\" in x['text'].lower()) else ABSTAIN\n",
    "\n",
    "@slicing_function()\n",
    "def new_feature(x):\n",
    "    # Return a label, otherwise ABSTAIN\n",
    "    return RD if \"feature\" in x['text'].lower() or \"experiment\" in x['text'].lower() or 'new' in x['text'].lower() or 'spike' in x['text'].lower() or 'add' in x['text'].lower() or 'build' in x['text'].lower() or 'create' in x['text'].lower() or 'enable' in x['text'].lower() or 'design' in x['text'].lower() or 'implement' in x['text'].lower() or 'report' in x['text'].lower() else ABSTAIN\n"
   ]
  },
  {
   "cell_type": "code",
   "execution_count": 254,
   "id": "1685eb7b",
   "metadata": {},
   "outputs": [
    {
     "name": "stderr",
     "output_type": "stream",
     "text": [
      "100%|██████████| 6856/6856 [00:00<00:00, 28806.33it/s]\n"
     ]
    }
   ],
   "source": [
    "rd_df = slice_dataframe(df_frames, new_feature)"
   ]
  },
  {
   "cell_type": "code",
   "execution_count": 255,
   "id": "2bae0c36",
   "metadata": {},
   "outputs": [
    {
     "data": {
      "text/html": [
       "<div>\n",
       "<style scoped>\n",
       "    .dataframe tbody tr th:only-of-type {\n",
       "        vertical-align: middle;\n",
       "    }\n",
       "\n",
       "    .dataframe tbody tr th {\n",
       "        vertical-align: top;\n",
       "    }\n",
       "\n",
       "    .dataframe thead th {\n",
       "        text-align: right;\n",
       "    }\n",
       "</style>\n",
       "<table border=\"1\" class=\"dataframe\">\n",
       "  <thead>\n",
       "    <tr style=\"text-align: right;\">\n",
       "      <th></th>\n",
       "      <th>issue_id</th>\n",
       "      <th>text</th>\n",
       "      <th>zero_shot_label</th>\n",
       "      <th>zeroshotlabel</th>\n",
       "      <th>snorkel</th>\n",
       "      <th>snorkel_new</th>\n",
       "      <th>xlnet_label</th>\n",
       "    </tr>\n",
       "  </thead>\n",
       "  <tbody>\n",
       "    <tr>\n",
       "      <th>0</th>\n",
       "      <td>487922</td>\n",
       "      <td>Bug Internal costs allocation is not calculati...</td>\n",
       "      <td>Defect</td>\n",
       "      <td>1</td>\n",
       "      <td>1</td>\n",
       "      <td>1</td>\n",
       "      <td>1</td>\n",
       "    </tr>\n",
       "    <tr>\n",
       "      <th>1</th>\n",
       "      <td>487693</td>\n",
       "      <td>Story Prepare videos | Ad Russia</td>\n",
       "      <td>New Feature</td>\n",
       "      <td>2</td>\n",
       "      <td>2</td>\n",
       "      <td>2</td>\n",
       "      <td>2</td>\n",
       "    </tr>\n",
       "    <tr>\n",
       "      <th>2</th>\n",
       "      <td>487981</td>\n",
       "      <td>Bug Inconsistent approach to calculating order...</td>\n",
       "      <td>Defect</td>\n",
       "      <td>1</td>\n",
       "      <td>1</td>\n",
       "      <td>1</td>\n",
       "      <td>1</td>\n",
       "    </tr>\n",
       "    <tr>\n",
       "      <th>3</th>\n",
       "      <td>487992</td>\n",
       "      <td>Bug Digital Campaign Name, Start and End date ...</td>\n",
       "      <td>Defect</td>\n",
       "      <td>1</td>\n",
       "      <td>1</td>\n",
       "      <td>1</td>\n",
       "      <td>1</td>\n",
       "    </tr>\n",
       "    <tr>\n",
       "      <th>4</th>\n",
       "      <td>488110</td>\n",
       "      <td>Story BM: Create SF_ORD_CRE_REQ messages</td>\n",
       "      <td>Continue Operation</td>\n",
       "      <td>0</td>\n",
       "      <td>0</td>\n",
       "      <td>0</td>\n",
       "      <td>2</td>\n",
       "    </tr>\n",
       "  </tbody>\n",
       "</table>\n",
       "</div>"
      ],
      "text/plain": [
       "   issue_id                                               text  \\\n",
       "0    487922  Bug Internal costs allocation is not calculati...   \n",
       "1    487693                   Story Prepare videos | Ad Russia   \n",
       "2    487981  Bug Inconsistent approach to calculating order...   \n",
       "3    487992  Bug Digital Campaign Name, Start and End date ...   \n",
       "4    488110           Story BM: Create SF_ORD_CRE_REQ messages   \n",
       "\n",
       "      zero_shot_label  zeroshotlabel  snorkel  snorkel_new  xlnet_label  \n",
       "0              Defect              1        1            1            1  \n",
       "1         New Feature              2        2            2            2  \n",
       "2              Defect              1        1            1            1  \n",
       "3              Defect              1        1            1            1  \n",
       "4  Continue Operation              0        0            0            2  "
      ]
     },
     "execution_count": 255,
     "metadata": {},
     "output_type": "execute_result"
    }
   ],
   "source": [
    "rd_df.head()"
   ]
  },
  {
   "cell_type": "code",
   "execution_count": 256,
   "id": "6ce36368",
   "metadata": {},
   "outputs": [
    {
     "name": "stderr",
     "output_type": "stream",
     "text": [
      "100%|██████████| 6856/6856 [00:00<00:00, 29112.96it/s]\n"
     ]
    },
    {
     "data": {
      "text/plain": [
       "rec.array([(-1,), (-1,), (-1,), ..., (-1,), (-1,), (-1,)],\n",
       "          dtype=[('new_feature', '<i8')])"
      ]
     },
     "execution_count": 256,
     "metadata": {},
     "output_type": "execute_result"
    }
   ],
   "source": [
    "# Slices\n",
    "slicing_functions = [new_feature]\n",
    "applier = PandasSFApplier(slicing_functions)\n",
    "slices = applier.apply(lebelled_df)\n",
    "slices"
   ]
  },
  {
   "cell_type": "code",
   "execution_count": 257,
   "id": "5f7d90fe",
   "metadata": {},
   "outputs": [],
   "source": [
    "y_true = lebelled_df['xlnet_label'].tolist()\n",
    "y_pred = lebelled_df['snorkel'].tolist()\n",
    "y_test = lebelled_df['xlnet_label'].values"
   ]
  },
  {
   "cell_type": "code",
   "execution_count": 258,
   "id": "fa459620",
   "metadata": {},
   "outputs": [],
   "source": [
    "from snorkel.utils import preds_to_probs\n",
    "\n",
    "preds_test = lebelled_df['snorkel'].values\n",
    "probs_test = preds_to_probs(preds_test, 4)"
   ]
  },
  {
   "cell_type": "markdown",
   "id": "9d967ab2",
   "metadata": {},
   "source": [
    "Retrieve our slice metrics"
   ]
  },
  {
   "cell_type": "code",
   "execution_count": 259,
   "id": "50a737f1",
   "metadata": {},
   "outputs": [],
   "source": [
    "from snorkel.analysis import Scorer\n",
    "\n",
    "scorer = Scorer(metrics=[\"f1_macro\", \"f1_micro\", \"accuracy\"])"
   ]
  },
  {
   "cell_type": "code",
   "execution_count": 260,
   "id": "210977a4",
   "metadata": {},
   "outputs": [
    {
     "data": {
      "text/html": [
       "<div>\n",
       "<style scoped>\n",
       "    .dataframe tbody tr th:only-of-type {\n",
       "        vertical-align: middle;\n",
       "    }\n",
       "\n",
       "    .dataframe tbody tr th {\n",
       "        vertical-align: top;\n",
       "    }\n",
       "\n",
       "    .dataframe thead th {\n",
       "        text-align: right;\n",
       "    }\n",
       "</style>\n",
       "<table border=\"1\" class=\"dataframe\">\n",
       "  <thead>\n",
       "    <tr style=\"text-align: right;\">\n",
       "      <th></th>\n",
       "      <th>f1_macro</th>\n",
       "      <th>f1_micro</th>\n",
       "      <th>accuracy</th>\n",
       "    </tr>\n",
       "  </thead>\n",
       "  <tbody>\n",
       "    <tr>\n",
       "      <th>overall</th>\n",
       "      <td>0.535396</td>\n",
       "      <td>0.699825</td>\n",
       "      <td>0.699825</td>\n",
       "    </tr>\n",
       "    <tr>\n",
       "      <th>new_feature</th>\n",
       "      <td>0.535396</td>\n",
       "      <td>0.699825</td>\n",
       "      <td>0.699825</td>\n",
       "    </tr>\n",
       "  </tbody>\n",
       "</table>\n",
       "</div>"
      ],
      "text/plain": [
       "             f1_macro  f1_micro  accuracy\n",
       "overall      0.535396  0.699825  0.699825\n",
       "new_feature  0.535396  0.699825  0.699825"
      ]
     },
     "execution_count": 260,
     "metadata": {},
     "output_type": "execute_result"
    }
   ],
   "source": [
    "scorer.score_slices(\n",
    "    S=slices, golds=y_test, preds=preds_test, probs=probs_test, as_dataframe=True\n",
    ")"
   ]
  },
  {
   "cell_type": "code",
   "execution_count": 83,
   "id": "fa8712b1",
   "metadata": {},
   "outputs": [],
   "source": [
    "eval_data.read_csv('eval.csv')"
   ]
  },
  {
   "cell_type": "code",
   "execution_count": 75,
   "id": "ec714c3d",
   "metadata": {},
   "outputs": [],
   "source": [
    "eval_data = pd.DataFrame(eval_data)\n",
    "eval_data.columns = ['text', 'labels']"
   ]
  },
  {
   "cell_type": "code",
   "execution_count": null,
   "id": "d276ea0d",
   "metadata": {},
   "outputs": [],
   "source": [
    "eval_data['xlnet_label'] = eval_data['text'].apply(predict_label)"
   ]
  },
  {
   "cell_type": "code",
   "execution_count": 79,
   "id": "54d38374",
   "metadata": {},
   "outputs": [
    {
     "name": "stdout",
     "output_type": "stream",
     "text": [
      "              precision    recall  f1-score   support\n",
      "\n",
      "           0       0.48      0.46      0.47        68\n",
      "           1       0.63      0.95      0.76        61\n",
      "           2       0.49      0.48      0.48        44\n",
      "           3       1.00      0.04      0.07        27\n",
      "\n",
      "    accuracy                           0.56       200\n",
      "   macro avg       0.65      0.48      0.45       200\n",
      "weighted avg       0.60      0.56      0.51       200\n",
      "\n"
     ]
    }
   ],
   "source": [
    "from sklearn.metrics import classification_report, confusion_matrix\n",
    "\n",
    "y_true = eval_data['labels'].tolist()\n",
    "y_pred = eval_data['xlnet_label'].tolist()  #list(np.concatenate(predictions).flat)\n",
    "print(classification_report(y_true, y_pred))"
   ]
  },
  {
   "cell_type": "code",
   "execution_count": 85,
   "id": "7553e75a",
   "metadata": {},
   "outputs": [],
   "source": [
    "model_name = 'roberta' #'electra'##\"xlnet\"\n",
    "model_type = 'roberta-base'#'google/electra-small-discriminator'#\"xlnet-base-cased\"\n",
    "\n",
    "train_args = {\n",
    "    'output_dir': f'{model_type}-{model_name}-outputs',\n",
    "\n",
    "    'max_seq_length': 256,\n",
    "    'num_train_epochs': 5,\n",
    "    'train_batch_size': 16,\n",
    "    'eval_batch_size': 32,\n",
    "    'gradient_accumulation_steps': 1,\n",
    "    'learning_rate': 5e-5,\n",
    "    'save_steps': 50000,\n",
    "\n",
    "    'wandb_project': 'ag-news-transformers-comparison',\n",
    "    'wandb_kwargs': {'name': f'{model_type}-{model_name}'},\n",
    "    'evaluate_during_training': True,\n",
    "    'evaluate_during_training_steps': 1000,\n",
    "    'reprocess_input_data': True,\n",
    "    \"save_model_every_epoch\": False,\n",
    "    'overwrite_output_dir': True,\n",
    "    'no_cache': True,\n",
    "\n",
    "    'use_early_stopping': True,\n",
    "    'early_stopping_patience': 3,\n",
    "    'manual_seed': 4,\n",
    "}"
   ]
  },
  {
   "cell_type": "code",
   "execution_count": 84,
   "id": "544ed9d6",
   "metadata": {},
   "outputs": [
    {
     "data": {
      "text/plain": [
       "array([1, 2, 0, 3])"
      ]
     },
     "execution_count": 84,
     "metadata": {},
     "output_type": "execute_result"
    }
   ],
   "source": [
    "# Get the unique labels\n",
    "categories = df_frames.snorkel.unique()\n",
    "categories"
   ]
  },
  {
   "cell_type": "code",
   "execution_count": 86,
   "id": "43801a1c",
   "metadata": {},
   "outputs": [
    {
     "name": "stderr",
     "output_type": "stream",
     "text": [
      "Some weights of the model checkpoint at roberta-base were not used when initializing RobertaForSequenceClassification: ['lm_head.bias', 'lm_head.dense.weight', 'lm_head.dense.bias', 'lm_head.layer_norm.weight', 'lm_head.layer_norm.bias', 'lm_head.decoder.weight']\n",
      "- This IS expected if you are initializing RobertaForSequenceClassification from the checkpoint of a model trained on another task or with another architecture (e.g. initializing a BertForSequenceClassification model from a BertForPreTraining model).\n",
      "- This IS NOT expected if you are initializing RobertaForSequenceClassification from the checkpoint of a model that you expect to be exactly identical (initializing a BertForSequenceClassification model from a BertForSequenceClassification model).\n",
      "Some weights of RobertaForSequenceClassification were not initialized from the model checkpoint at roberta-base and are newly initialized: ['classifier.dense.weight', 'classifier.dense.bias', 'classifier.out_proj.weight', 'classifier.out_proj.bias']\n",
      "You should probably TRAIN this model on a down-stream task to be able to use it for predictions and inference.\n"
     ]
    }
   ],
   "source": [
    "# Create a ClassificationModel\n",
    "model = ClassificationModel(\n",
    "    model_name,\n",
    "    model_type,\n",
    "    num_labels=len(categories),args=train_args\n",
    ")"
   ]
  },
  {
   "cell_type": "code",
   "execution_count": 87,
   "id": "0640c0fa",
   "metadata": {},
   "outputs": [],
   "source": [
    "X = df_frames.loc[:,['text', 'snorkel']]"
   ]
  },
  {
   "cell_type": "code",
   "execution_count": 92,
   "id": "f7be9829",
   "metadata": {},
   "outputs": [
    {
     "name": "stdout",
     "output_type": "stream",
     "text": [
      "(5484, 2) (1372, 2)\n"
     ]
    }
   ],
   "source": [
    "from sklearn.model_selection import train_test_split\n",
    "\n",
    "df_train, df_val = train_test_split(X, test_size = 0.2, random_state = 2021)\n",
    "print(df_train.shape, df_val.shape)"
   ]
  },
  {
   "cell_type": "code",
   "execution_count": 98,
   "id": "e4b463d4",
   "metadata": {},
   "outputs": [
    {
     "name": "stderr",
     "output_type": "stream",
     "text": [
      "/opt/conda/lib/python3.7/site-packages/simpletransformers/classification/classification_model.py:616: UserWarning: Dataframe headers not specified. Falling back to using column 0 as text and column 1 as labels.\n",
      "  \"Dataframe headers not specified. Falling back to using column 0 as text and column 1 as labels.\"\n"
     ]
    },
    {
     "data": {
      "application/vnd.jupyter.widget-view+json": {
       "model_id": "1af2ee3587594205aa7da1fff62fe909",
       "version_major": 2,
       "version_minor": 0
      },
      "text/plain": [
       "  0%|          | 0/5484 [00:00<?, ?it/s]"
      ]
     },
     "metadata": {},
     "output_type": "display_data"
    },
    {
     "data": {
      "application/vnd.jupyter.widget-view+json": {
       "model_id": "359d7b189efe4e69a9bb175b4ad543ea",
       "version_major": 2,
       "version_minor": 0
      },
      "text/plain": [
       "Epoch:   0%|          | 0/5 [00:00<?, ?it/s]"
      ]
     },
     "metadata": {},
     "output_type": "display_data"
    },
    {
     "data": {
      "text/html": [
       "Finishing last run (ID:211n0o4v) before initializing another..."
      ],
      "text/plain": [
       "<IPython.core.display.HTML object>"
      ]
     },
     "metadata": {},
     "output_type": "display_data"
    },
    {
     "data": {
      "text/html": [
       "<br/>Waiting for W&B process to finish, PID 5837<br/>Program ended successfully."
      ],
      "text/plain": [
       "<IPython.core.display.HTML object>"
      ]
     },
     "metadata": {},
     "output_type": "display_data"
    },
    {
     "data": {
      "text/html": [
       "Find user logs for this run at: <code>/home/jupyter/snorkel/wandb/offline-run-20211004_172457-211n0o4v/logs/debug.log</code>"
      ],
      "text/plain": [
       "<IPython.core.display.HTML object>"
      ]
     },
     "metadata": {},
     "output_type": "display_data"
    },
    {
     "data": {
      "text/html": [
       "Find internal logs for this run at: <code>/home/jupyter/snorkel/wandb/offline-run-20211004_172457-211n0o4v/logs/debug-internal.log</code>"
      ],
      "text/plain": [
       "<IPython.core.display.HTML object>"
      ]
     },
     "metadata": {},
     "output_type": "display_data"
    },
    {
     "data": {
      "text/html": [
       "<h3>Run summary:</h3><br/><style>\n",
       "    table.wandb td:nth-child(1) { padding: 0 10px; text-align: right }\n",
       "    </style><table class=\"wandb\">\n",
       "<tr><td>_runtime</td><td>5</td></tr><tr><td>_timestamp</td><td>1633368304</td></tr><tr><td>_step</td><td>2</td></tr></table>"
      ],
      "text/plain": [
       "<IPython.core.display.HTML object>"
      ]
     },
     "metadata": {},
     "output_type": "display_data"
    },
    {
     "data": {
      "text/html": [
       "<h3>Run history:</h3><br/><style>\n",
       "    table.wandb td:nth-child(1) { padding: 0 10px; text-align: right }\n",
       "    </style><table class=\"wandb\">\n",
       "<tr><td>_runtime</td><td>▁▁▁</td></tr><tr><td>_timestamp</td><td>▁▁▁</td></tr><tr><td>_step</td><td>▁▅█</td></tr></table><br/>"
      ],
      "text/plain": [
       "<IPython.core.display.HTML object>"
      ]
     },
     "metadata": {},
     "output_type": "display_data"
    },
    {
     "name": "stderr",
     "output_type": "stream",
     "text": [
      "\u001b[34m\u001b[1mwandb\u001b[0m: You can sync this run to the cloud by running:\n",
      "\u001b[34m\u001b[1mwandb\u001b[0m: \u001b[33mwandb sync /home/jupyter/snorkel/wandb/offline-run-20211004_172457-211n0o4v\u001b[0m\n"
     ]
    },
    {
     "data": {
      "text/html": [
       "...Successfully finished last run (ID:211n0o4v). Initializing new run:<br/><br/>"
      ],
      "text/plain": [
       "<IPython.core.display.HTML object>"
      ]
     },
     "metadata": {},
     "output_type": "display_data"
    },
    {
     "name": "stderr",
     "output_type": "stream",
     "text": [
      "\u001b[34m\u001b[1mwandb\u001b[0m: W&B syncing is set to `offline` in this directory.  Run `wandb online` or set WANDB_MODE=online to enable cloud syncing.\n"
     ]
    },
    {
     "data": {
      "application/vnd.jupyter.widget-view+json": {
       "model_id": "06e9de58054946d4a0490adb45ce918c",
       "version_major": 2,
       "version_minor": 0
      },
      "text/plain": [
       "Running Epoch 0 of 5:   0%|          | 0/343 [00:00<?, ?it/s]"
      ]
     },
     "metadata": {},
     "output_type": "display_data"
    },
    {
     "name": "stderr",
     "output_type": "stream",
     "text": [
      "/opt/conda/lib/python3.7/site-packages/simpletransformers/classification/classification_model.py:1402: UserWarning: Dataframe headers not specified. Falling back to using column 0 as text and column 1 as labels.\n",
      "  \"Dataframe headers not specified. Falling back to using column 0 as text and column 1 as labels.\"\n"
     ]
    },
    {
     "data": {
      "application/vnd.jupyter.widget-view+json": {
       "model_id": "74093a05a5ae45789acaf274e5cba5ea",
       "version_major": 2,
       "version_minor": 0
      },
      "text/plain": [
       "  0%|          | 0/1372 [00:00<?, ?it/s]"
      ]
     },
     "metadata": {},
     "output_type": "display_data"
    },
    {
     "data": {
      "application/vnd.jupyter.widget-view+json": {
       "model_id": "d7618f34a0c348629b6c4f0e092bed20",
       "version_major": 2,
       "version_minor": 0
      },
      "text/plain": [
       "Running Epoch 1 of 5:   0%|          | 0/343 [00:00<?, ?it/s]"
      ]
     },
     "metadata": {},
     "output_type": "display_data"
    },
    {
     "name": "stderr",
     "output_type": "stream",
     "text": [
      "/opt/conda/lib/python3.7/site-packages/simpletransformers/classification/classification_model.py:1402: UserWarning: Dataframe headers not specified. Falling back to using column 0 as text and column 1 as labels.\n",
      "  \"Dataframe headers not specified. Falling back to using column 0 as text and column 1 as labels.\"\n"
     ]
    },
    {
     "data": {
      "application/vnd.jupyter.widget-view+json": {
       "model_id": "4928a79575064def8479ff7f40ed1ebe",
       "version_major": 2,
       "version_minor": 0
      },
      "text/plain": [
       "  0%|          | 0/1372 [00:00<?, ?it/s]"
      ]
     },
     "metadata": {},
     "output_type": "display_data"
    },
    {
     "data": {
      "application/vnd.jupyter.widget-view+json": {
       "model_id": "43febf8814034ed2955c39ed5157c6d0",
       "version_major": 2,
       "version_minor": 0
      },
      "text/plain": [
       "Running Epoch 2 of 5:   0%|          | 0/343 [00:00<?, ?it/s]"
      ]
     },
     "metadata": {},
     "output_type": "display_data"
    },
    {
     "name": "stderr",
     "output_type": "stream",
     "text": [
      "/opt/conda/lib/python3.7/site-packages/simpletransformers/classification/classification_model.py:1402: UserWarning: Dataframe headers not specified. Falling back to using column 0 as text and column 1 as labels.\n",
      "  \"Dataframe headers not specified. Falling back to using column 0 as text and column 1 as labels.\"\n"
     ]
    },
    {
     "data": {
      "application/vnd.jupyter.widget-view+json": {
       "model_id": "bfca864b2b5343efab67faae9af0f1dc",
       "version_major": 2,
       "version_minor": 0
      },
      "text/plain": [
       "  0%|          | 0/1372 [00:00<?, ?it/s]"
      ]
     },
     "metadata": {},
     "output_type": "display_data"
    },
    {
     "name": "stderr",
     "output_type": "stream",
     "text": [
      "/opt/conda/lib/python3.7/site-packages/simpletransformers/classification/classification_model.py:1402: UserWarning: Dataframe headers not specified. Falling back to using column 0 as text and column 1 as labels.\n",
      "  \"Dataframe headers not specified. Falling back to using column 0 as text and column 1 as labels.\"\n"
     ]
    },
    {
     "data": {
      "application/vnd.jupyter.widget-view+json": {
       "model_id": "a5ebc8a34a2d466f8deabe742ae97d8a",
       "version_major": 2,
       "version_minor": 0
      },
      "text/plain": [
       "  0%|          | 0/1372 [00:00<?, ?it/s]"
      ]
     },
     "metadata": {},
     "output_type": "display_data"
    },
    {
     "data": {
      "application/vnd.jupyter.widget-view+json": {
       "model_id": "2d1bb37f54d04027a0191e322fe7dc6b",
       "version_major": 2,
       "version_minor": 0
      },
      "text/plain": [
       "Running Epoch 3 of 5:   0%|          | 0/343 [00:00<?, ?it/s]"
      ]
     },
     "metadata": {},
     "output_type": "display_data"
    },
    {
     "name": "stderr",
     "output_type": "stream",
     "text": [
      "/opt/conda/lib/python3.7/site-packages/simpletransformers/classification/classification_model.py:1402: UserWarning: Dataframe headers not specified. Falling back to using column 0 as text and column 1 as labels.\n",
      "  \"Dataframe headers not specified. Falling back to using column 0 as text and column 1 as labels.\"\n"
     ]
    },
    {
     "data": {
      "application/vnd.jupyter.widget-view+json": {
       "model_id": "f98a25a2a9164717bdc1aa9602691e4e",
       "version_major": 2,
       "version_minor": 0
      },
      "text/plain": [
       "  0%|          | 0/1372 [00:00<?, ?it/s]"
      ]
     },
     "metadata": {},
     "output_type": "display_data"
    },
    {
     "data": {
      "application/vnd.jupyter.widget-view+json": {
       "model_id": "1b7aef3ba0804ec9869bc349240f6032",
       "version_major": 2,
       "version_minor": 0
      },
      "text/plain": [
       "Running Epoch 4 of 5:   0%|          | 0/343 [00:00<?, ?it/s]"
      ]
     },
     "metadata": {},
     "output_type": "display_data"
    },
    {
     "name": "stderr",
     "output_type": "stream",
     "text": [
      "/opt/conda/lib/python3.7/site-packages/simpletransformers/classification/classification_model.py:1402: UserWarning: Dataframe headers not specified. Falling back to using column 0 as text and column 1 as labels.\n",
      "  \"Dataframe headers not specified. Falling back to using column 0 as text and column 1 as labels.\"\n"
     ]
    },
    {
     "data": {
      "application/vnd.jupyter.widget-view+json": {
       "model_id": "11b446a2cefb48f8919568281f905ffa",
       "version_major": 2,
       "version_minor": 0
      },
      "text/plain": [
       "  0%|          | 0/1372 [00:00<?, ?it/s]"
      ]
     },
     "metadata": {},
     "output_type": "display_data"
    },
    {
     "data": {
      "text/plain": [
       "(1715,\n",
       " {'global_step': [343, 686, 1000, 1029, 1372, 1715],\n",
       "  'mcc': [0.7239022544773321,\n",
       "   0.7290908305207312,\n",
       "   0.7236825137911609,\n",
       "   0.7540138803710128,\n",
       "   0.7485790319361932,\n",
       "   0.7448347011653819],\n",
       "  'train_loss': [0.42033863067626953,\n",
       "   0.4354438781738281,\n",
       "   0.16752392053604126,\n",
       "   0.021520614624023438,\n",
       "   0.5627015233039856,\n",
       "   0.003447334049269557],\n",
       "  'eval_loss': [0.7241885786832765,\n",
       "   0.7302038517109183,\n",
       "   0.8098233924355618,\n",
       "   0.7423101531904798,\n",
       "   0.9303313750167226,\n",
       "   0.9480593738167785]})"
      ]
     },
     "execution_count": 98,
     "metadata": {},
     "output_type": "execute_result"
    }
   ],
   "source": [
    "# Train the model\n",
    "model.train_model(df_train, eval_df=df_val)"
   ]
  },
  {
   "cell_type": "code",
   "execution_count": 95,
   "id": "9e33b690",
   "metadata": {},
   "outputs": [],
   "source": [
    "import os\n",
    "os.environ[\"TOKENIZERS_PARALLELISM\"] = \"false\""
   ]
  },
  {
   "cell_type": "code",
   "execution_count": 96,
   "id": "4af1c2fc",
   "metadata": {},
   "outputs": [
    {
     "name": "stderr",
     "output_type": "stream",
     "text": [
      "/opt/conda/lib/python3.7/site-packages/simpletransformers/classification/classification_model.py:1402: UserWarning: Dataframe headers not specified. Falling back to using column 0 as text and column 1 as labels.\n",
      "  \"Dataframe headers not specified. Falling back to using column 0 as text and column 1 as labels.\"\n"
     ]
    },
    {
     "data": {
      "application/vnd.jupyter.widget-view+json": {
       "model_id": "66e706f06e3344cbb82ef7b864e8ce35",
       "version_major": 2,
       "version_minor": 0
      },
      "text/plain": [
       "  0%|          | 0/1372 [00:00<?, ?it/s]"
      ]
     },
     "metadata": {},
     "output_type": "display_data"
    },
    {
     "data": {
      "application/vnd.jupyter.widget-view+json": {
       "model_id": "f0a8f2cdf1834a108638ec4bc1b26b75",
       "version_major": 2,
       "version_minor": 0
      },
      "text/plain": [
       "Running Evaluation:   0%|          | 0/43 [00:00<?, ?it/s]"
      ]
     },
     "metadata": {},
     "output_type": "display_data"
    },
    {
     "data": {
      "text/html": [
       "Finishing last run (ID:2o9fyqfk) before initializing another..."
      ],
      "text/plain": [
       "<IPython.core.display.HTML object>"
      ]
     },
     "metadata": {},
     "output_type": "display_data"
    },
    {
     "data": {
      "text/html": [
       "<br/>Waiting for W&B process to finish, PID 5463<br/>Program ended successfully."
      ],
      "text/plain": [
       "<IPython.core.display.HTML object>"
      ]
     },
     "metadata": {},
     "output_type": "display_data"
    },
    {
     "data": {
      "text/html": [
       "Find user logs for this run at: <code>/home/jupyter/snorkel/wandb/offline-run-20211004_172318-2o9fyqfk/logs/debug.log</code>"
      ],
      "text/plain": [
       "<IPython.core.display.HTML object>"
      ]
     },
     "metadata": {},
     "output_type": "display_data"
    },
    {
     "data": {
      "text/html": [
       "Find internal logs for this run at: <code>/home/jupyter/snorkel/wandb/offline-run-20211004_172318-2o9fyqfk/logs/debug-internal.log</code>"
      ],
      "text/plain": [
       "<IPython.core.display.HTML object>"
      ]
     },
     "metadata": {},
     "output_type": "display_data"
    },
    {
     "data": {
      "text/html": [
       "<h3>Run summary:</h3><br/><style>\n",
       "    table.wandb td:nth-child(1) { padding: 0 10px; text-align: right }\n",
       "    </style><table class=\"wandb\">\n",
       "<tr><td>_runtime</td><td>5</td></tr><tr><td>_timestamp</td><td>1633368206</td></tr><tr><td>_step</td><td>2</td></tr></table>"
      ],
      "text/plain": [
       "<IPython.core.display.HTML object>"
      ]
     },
     "metadata": {},
     "output_type": "display_data"
    },
    {
     "data": {
      "text/html": [
       "<h3>Run history:</h3><br/><style>\n",
       "    table.wandb td:nth-child(1) { padding: 0 10px; text-align: right }\n",
       "    </style><table class=\"wandb\">\n",
       "<tr><td>_runtime</td><td>▁▁▁</td></tr><tr><td>_timestamp</td><td>▁▁▁</td></tr><tr><td>_step</td><td>▁▅█</td></tr></table><br/>"
      ],
      "text/plain": [
       "<IPython.core.display.HTML object>"
      ]
     },
     "metadata": {},
     "output_type": "display_data"
    },
    {
     "name": "stderr",
     "output_type": "stream",
     "text": [
      "\u001b[34m\u001b[1mwandb\u001b[0m: You can sync this run to the cloud by running:\n",
      "\u001b[34m\u001b[1mwandb\u001b[0m: \u001b[33mwandb sync /home/jupyter/snorkel/wandb/offline-run-20211004_172318-2o9fyqfk\u001b[0m\n"
     ]
    },
    {
     "data": {
      "text/html": [
       "...Successfully finished last run (ID:2o9fyqfk). Initializing new run:<br/><br/>"
      ],
      "text/plain": [
       "<IPython.core.display.HTML object>"
      ]
     },
     "metadata": {},
     "output_type": "display_data"
    },
    {
     "name": "stderr",
     "output_type": "stream",
     "text": [
      "\u001b[34m\u001b[1mwandb\u001b[0m: W&B syncing is set to `offline` in this directory.  Run `wandb online` or set WANDB_MODE=online to enable cloud syncing.\n"
     ]
    }
   ],
   "source": [
    "# Evaluate the model\n",
    "result, model_outputs, wrong_predictions = model.eval_model(df_val)"
   ]
  },
  {
   "cell_type": "code",
   "execution_count": 97,
   "id": "04df8247",
   "metadata": {},
   "outputs": [
    {
     "data": {
      "text/plain": [
       "{'mcc': 0.7386294269537602, 'eval_loss': 0.6727352267087892}"
      ]
     },
     "execution_count": 97,
     "metadata": {},
     "output_type": "execute_result"
    }
   ],
   "source": [
    "result"
   ]
  },
  {
   "cell_type": "code",
   "execution_count": 100,
   "id": "77a9c886",
   "metadata": {},
   "outputs": [],
   "source": [
    "def predict_roberta_label(summary):\n",
    "    predictions, raw_outputs = model.predict([summary])\n",
    "    return predictions[0]"
   ]
  },
  {
   "cell_type": "code",
   "execution_count": null,
   "id": "40bb6b3e",
   "metadata": {},
   "outputs": [],
   "source": [
    "eval_data['roberta_label'] = eval_data['text'].apply(predict_roberta_label)"
   ]
  },
  {
   "cell_type": "code",
   "execution_count": 102,
   "id": "4176f199",
   "metadata": {},
   "outputs": [
    {
     "data": {
      "text/html": [
       "<div>\n",
       "<style scoped>\n",
       "    .dataframe tbody tr th:only-of-type {\n",
       "        vertical-align: middle;\n",
       "    }\n",
       "\n",
       "    .dataframe tbody tr th {\n",
       "        vertical-align: top;\n",
       "    }\n",
       "\n",
       "    .dataframe thead th {\n",
       "        text-align: right;\n",
       "    }\n",
       "</style>\n",
       "<table border=\"1\" class=\"dataframe\">\n",
       "  <thead>\n",
       "    <tr style=\"text-align: right;\">\n",
       "      <th></th>\n",
       "      <th>text</th>\n",
       "      <th>labels</th>\n",
       "      <th>xlnet_label</th>\n",
       "      <th>roberta_label</th>\n",
       "    </tr>\n",
       "  </thead>\n",
       "  <tbody>\n",
       "    <tr>\n",
       "      <th>0</th>\n",
       "      <td>Taks R2 Reports - Revenues by Strategic Product</td>\n",
       "      <td>2</td>\n",
       "      <td>2</td>\n",
       "      <td>0</td>\n",
       "    </tr>\n",
       "    <tr>\n",
       "      <th>1</th>\n",
       "      <td>Story R2 Reports - Weekly Digital Revenue Report</td>\n",
       "      <td>2</td>\n",
       "      <td>2</td>\n",
       "      <td>0</td>\n",
       "    </tr>\n",
       "    <tr>\n",
       "      <th>2</th>\n",
       "      <td>Taks Reporting Request_Ciroc_7819_5.7.21_Shopp...</td>\n",
       "      <td>2</td>\n",
       "      <td>2</td>\n",
       "      <td>0</td>\n",
       "    </tr>\n",
       "    <tr>\n",
       "      <th>3</th>\n",
       "      <td>Taks Copilot: Create an original piece of cont...</td>\n",
       "      <td>2</td>\n",
       "      <td>2</td>\n",
       "      <td>0</td>\n",
       "    </tr>\n",
       "    <tr>\n",
       "      <th>4</th>\n",
       "      <td>Story COVID Hair Portfolio</td>\n",
       "      <td>2</td>\n",
       "      <td>2</td>\n",
       "      <td>2</td>\n",
       "    </tr>\n",
       "  </tbody>\n",
       "</table>\n",
       "</div>"
      ],
      "text/plain": [
       "                                                text  labels  xlnet_label  \\\n",
       "0    Taks R2 Reports - Revenues by Strategic Product       2            2   \n",
       "1   Story R2 Reports - Weekly Digital Revenue Report       2            2   \n",
       "2  Taks Reporting Request_Ciroc_7819_5.7.21_Shopp...       2            2   \n",
       "3  Taks Copilot: Create an original piece of cont...       2            2   \n",
       "4                         Story COVID Hair Portfolio       2            2   \n",
       "\n",
       "   roberta_label  \n",
       "0              0  \n",
       "1              0  \n",
       "2              0  \n",
       "3              0  \n",
       "4              2  "
      ]
     },
     "execution_count": 102,
     "metadata": {},
     "output_type": "execute_result"
    }
   ],
   "source": [
    "eval_data.head()"
   ]
  },
  {
   "cell_type": "code",
   "execution_count": 106,
   "id": "a5a6b71c",
   "metadata": {},
   "outputs": [
    {
     "name": "stdout",
     "output_type": "stream",
     "text": [
      "              precision    recall  f1-score   support\n",
      "\n",
      "           0       0.48      0.46      0.47        68\n",
      "           1       0.63      0.95      0.76        61\n",
      "           2       0.49      0.48      0.48        44\n",
      "           3       1.00      0.04      0.07        27\n",
      "\n",
      "    accuracy                           0.56       200\n",
      "   macro avg       0.65      0.48      0.45       200\n",
      "weighted avg       0.60      0.56      0.51       200\n",
      "\n"
     ]
    }
   ],
   "source": [
    "from sklearn.metrics import classification_report, confusion_matrix\n",
    "\n",
    "y_true = eval_data['labels'].tolist()\n",
    "y_pred = eval_data['xlnet_label'].tolist()  #list(np.concatenate(predictions).flat)\n",
    "print(classification_report(y_true, y_pred))"
   ]
  },
  {
   "cell_type": "markdown",
   "id": "8b9c091f",
   "metadata": {},
   "source": [
    "### References"
   ]
  },
  {
   "cell_type": "markdown",
   "id": "2843301b",
   "metadata": {},
   "source": [
    "\n",
    "[1] Google AI Blog: Harnessing Organizational Knowledge for Machine Learning\n",
    "\n",
    "[2] https://www.snorkel.org/use-cases/ \n",
    "\n",
    "[3] https://github.com/ThilinaRajapakse/simpletransformers"
   ]
  },
  {
   "cell_type": "markdown",
   "id": "e1839f6d",
   "metadata": {},
   "source": [
    "### Example Use Cases of Snorkel Pattern in production\n",
    "\n",
    "* Apple's Overton Project using ideas from Snorkel\n",
    "\n",
    "* Google AI Blog: Harnessing Organizational Knowledge for Machine Learning\n",
    "\n",
    "* MRI Image Sequence Classification Work: Weakly supervised classification of aortic valve malformations using unlabeled cardiac MRI sequences"
   ]
  },
  {
   "cell_type": "code",
   "execution_count": null,
   "id": "58ddc22d",
   "metadata": {},
   "outputs": [],
   "source": []
  }
 ],
 "metadata": {
  "environment": {
   "name": "pytorch-gpu.1-9.m75",
   "type": "gcloud",
   "uri": "gcr.io/deeplearning-platform-release/pytorch-gpu.1-9:m75"
  },
  "kernelspec": {
   "display_name": "Python 3",
   "language": "python",
   "name": "python3"
  },
  "language_info": {
   "codemirror_mode": {
    "name": "ipython",
    "version": 3
   },
   "file_extension": ".py",
   "mimetype": "text/x-python",
   "name": "python",
   "nbconvert_exporter": "python",
   "pygments_lexer": "ipython3",
   "version": "3.7.10"
  }
 },
 "nbformat": 4,
 "nbformat_minor": 5
}
