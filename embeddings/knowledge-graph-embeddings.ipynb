{
 "cells": [
  {
   "cell_type": "markdown",
   "id": "90916d34",
   "metadata": {},
   "source": [
    "### Knowledge Graph Embeddings"
   ]
  },
  {
   "cell_type": "markdown",
   "id": "18327df6",
   "metadata": {},
   "source": [
    "A knowledge graph is a multirelational graph whoes entities (nodes) are connected through a set of relationships (edges)."
   ]
  },
  {
   "cell_type": "markdown",
   "id": "1c070c7d",
   "metadata": {},
   "source": [
    "Embeddings use less number of features and encode the entities and translate the relationships and representaions in a manner that simplifies manipulation while also preserving the context. This is essentially a way to derive neural representations for existing knowledge graphs. Capturing knowledge encoded in the graphs to make it easier to use in deep learning models.   "
   ]
  },
  {
   "cell_type": "markdown",
   "id": "61bc8eb3",
   "metadata": {},
   "source": [
    "In a typical knowledge graph embeddings model, entities are represented by vectors in a continuous vector space and relations are taken as operations in the same space and can be represented by vectors, matrices, or tensors among others. "
   ]
  },
  {
   "cell_type": "markdown",
   "id": "9f7b5213",
   "metadata": {},
   "source": [
    "Based on what (nodes/edges) you are using for analysis, one would embed the node, edges or the entire graph as a vector. "
   ]
  },
  {
   "cell_type": "code",
   "execution_count": null,
   "id": "5c428c2e",
   "metadata": {},
   "outputs": [],
   "source": []
  }
 ],
 "metadata": {
  "environment": {
   "name": "pytorch-gpu.1-9.m75",
   "type": "gcloud",
   "uri": "gcr.io/deeplearning-platform-release/pytorch-gpu.1-9:m75"
  },
  "kernelspec": {
   "display_name": "Python 3",
   "language": "python",
   "name": "python3"
  },
  "language_info": {
   "codemirror_mode": {
    "name": "ipython",
    "version": 3
   },
   "file_extension": ".py",
   "mimetype": "text/x-python",
   "name": "python",
   "nbconvert_exporter": "python",
   "pygments_lexer": "ipython3",
   "version": "3.7.10"
  }
 },
 "nbformat": 4,
 "nbformat_minor": 5
}
