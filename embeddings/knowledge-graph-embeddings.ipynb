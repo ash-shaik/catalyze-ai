{
 "cells": [
  {
   "cell_type": "markdown",
   "id": "10e65e7e",
   "metadata": {},
   "source": [
    "### Knowledge Graph Embeddings"
   ]
  },
  {
   "cell_type": "markdown",
   "id": "8274345d",
   "metadata": {},
   "source": [
    " A knowledge graph is a multirelational graph that includes entities (nodes) and a set of relation types (edges)."
   ]
  },
  {
   "cell_type": "markdown",
   "id": "a96878e0",
   "metadata": {},
   "source": [
    "Word embeddings aim at capturing the meaning of words based on very large corpora. This is essentially a way to derive neural representations for existing knowledge graphs. Capturing knowledge encoded in the graphs to make it easier to use in deep learning models.   "
   ]
  },
  {
   "cell_type": "code",
   "execution_count": null,
   "id": "247ef25d",
   "metadata": {},
   "outputs": [],
   "source": []
  }
 ],
 "metadata": {
  "environment": {
   "name": "pytorch-gpu.1-9.m75",
   "type": "gcloud",
   "uri": "gcr.io/deeplearning-platform-release/pytorch-gpu.1-9:m75"
  },
  "kernelspec": {
   "display_name": "Python 3",
   "language": "python",
   "name": "python3"
  },
  "language_info": {
   "codemirror_mode": {
    "name": "ipython",
    "version": 3
   },
   "file_extension": ".py",
   "mimetype": "text/x-python",
   "name": "python",
   "nbconvert_exporter": "python",
   "pygments_lexer": "ipython3",
   "version": "3.7.10"
  }
 },
 "nbformat": 4,
 "nbformat_minor": 5
}
